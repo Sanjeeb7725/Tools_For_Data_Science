{
 "cells": [
  {
   "cell_type": "code",
   "execution_count": 1,
   "id": "261a74d9-eb94-44a6-bb6b-832a53aee361",
   "metadata": {
    "tags": []
   },
   "outputs": [
    {
     "data": {
      "text/markdown": [
       "# Data Science Tools and Ecosystem"
      ],
      "text/plain": [
       "<IPython.core.display.Markdown object>"
      ]
     },
     "metadata": {},
     "output_type": "display_data"
    }
   ],
   "source": [
    "from IPython.display import Markdown\n",
    "\n",
    "# Markdown cell content with H1 heading\n",
    "markdown_text = \"# Data Science Tools and Ecosystem\"\n",
    "\n",
    "# Display the Markdown cell\n",
    "display(Markdown(markdown_text))"
   ]
  },
  {
   "cell_type": "code",
   "execution_count": 2,
   "id": "a93a243c-c912-460b-9b6b-7bd1cc408e48",
   "metadata": {
    "tags": []
   },
   "outputs": [
    {
     "data": {
      "text/markdown": [
       "In this notebook, Data Science Tools and Ecosystem are summarized."
      ],
      "text/plain": [
       "<IPython.core.display.Markdown object>"
      ]
     },
     "metadata": {},
     "output_type": "display_data"
    }
   ],
   "source": [
    "from IPython.display import Markdown\n",
    "\n",
    "# Introductory sentence\n",
    "intro_sentence = \"In this notebook, Data Science Tools and Ecosystem are summarized.\"\n",
    "\n",
    "# Display the Markdown cell\n",
    "display(Markdown(intro_sentence))"
   ]
  },
  {
   "cell_type": "code",
   "execution_count": 3,
   "id": "caf13157-7d55-4dfc-bddc-ebb45459f43d",
   "metadata": {
    "tags": []
   },
   "outputs": [
    {
     "data": {
      "text/markdown": [
       "Some of the popular languages that Data Scientists use are:\n",
       "\n",
       "1. Python\n",
       "1. R\n",
       "1. Julia\n",
       "1. SQL"
      ],
      "text/plain": [
       "<IPython.core.display.Markdown object>"
      ]
     },
     "metadata": {},
     "output_type": "display_data"
    }
   ],
   "source": [
    "from IPython.display import Markdown\n",
    "\n",
    "# Overview line\n",
    "overview_line = \"Some of the popular languages that Data Scientists use are:\"\n",
    "\n",
    "# List of commonly used languages for data science\n",
    "languages_list = [\n",
    "    \"Python\",\n",
    "    \"R\",\n",
    "    \"Julia\",\n",
    "    \"SQL\",  # You can add more languages here if needed\n",
    "]\n",
    "\n",
    "# Create the ordered list in Markdown format\n",
    "ordered_list = \"\\n\".join([f\"1. {language}\" for language in languages_list])\n",
    "\n",
    "# Combine the overview line and ordered list\n",
    "markdown_text = f\"{overview_line}\\n\\n{ordered_list}\"\n",
    "\n",
    "# Display the Markdown cell\n",
    "display(Markdown(markdown_text))"
   ]
  },
  {
   "cell_type": "code",
   "execution_count": 4,
   "id": "48914a53-685a-4dac-b059-59cab3d09ab9",
   "metadata": {
    "tags": []
   },
   "outputs": [
    {
     "data": {
      "text/markdown": [
       "Some of the commonly used libraries used by Data Scientists include:\n",
       "\n",
       "1. Pandas\n",
       "1. NumPy\n",
       "1. Matplotlib\n",
       "1. Scikit-learn"
      ],
      "text/plain": [
       "<IPython.core.display.Markdown object>"
      ]
     },
     "metadata": {},
     "output_type": "display_data"
    }
   ],
   "source": [
    "from IPython.display import Markdown\n",
    "# Overview line\n",
    "overview_line = \"Some of the commonly used libraries used by Data Scientists include:\"\n",
    "# List of commonly used libraries for data science\n",
    "libraries_list = [\n",
    "    \"Pandas\",\n",
    "    \"NumPy\",\n",
    "    \"Matplotlib\",\n",
    "    \"Scikit-learn\",  # You can add more libraries here if needed\n",
    "]\n",
    "# Create the ordered list in Markdown format\n",
    "ordered_list = \"\\n\".join([f\"1. {library}\" for library in libraries_list])\n",
    "# Combine the overview line and ordered list\n",
    "markdown_text = f\"{overview_line}\\n\\n{ordered_list}\"\n",
    "# Display the Markdown cell\n",
    "display(Markdown(markdown_text))"
   ]
  },
  {
   "cell_type": "code",
   "execution_count": 5,
   "id": "6eafa616-b861-4dbe-8582-f19623dd464b",
   "metadata": {
    "tags": []
   },
   "outputs": [
    {
     "data": {
      "text/markdown": [
       "| Data Science Tools |\n",
       "|------------------|\n",
       "| Jupyter Notebook |\n",
       "| RStudio |\n",
       "| Visual Studio Code |"
      ],
      "text/plain": [
       "<IPython.core.display.Markdown object>"
      ]
     },
     "metadata": {},
     "output_type": "display_data"
    }
   ],
   "source": [
    "from IPython.display import Markdown, display\n",
    "# Header and table rows\n",
    "header = \"Data Science Tools\"\n",
    "tools_list = [\n",
    "    \"Jupyter Notebook\",\n",
    "    \"RStudio\",\n",
    "    \"Visual Studio Code\",\n",
    "    # You can add more tools here if needed\n",
    "]\n",
    "# Create the table in Markdown format\n",
    "table_content = f\"| {header} |\\n|{'-' * len(header)}|\\n\" + \"\\n\".join([f\"| {tool} |\" for tool in tools_list])\n",
    "# Display the Markdown cell\n",
    "display(Markdown(table_content))"
   ]
  },
  {
   "cell_type": "code",
   "execution_count": 6,
   "id": "40f02aed-a3b2-4302-a889-bafc84144502",
   "metadata": {
    "tags": []
   },
   "outputs": [
    {
     "data": {
      "text/markdown": [
       "### Below are a few examples of evaluating arithmetic expressions in Python\n",
       "\n",
       "| Data Science Tools |\n",
       "|------------------|\n",
       "| Jupyter Notebook |\n",
       "| RStudio |\n",
       "| Visual Studio Code |"
      ],
      "text/plain": [
       "<IPython.core.display.Markdown object>"
      ]
     },
     "metadata": {},
     "output_type": "display_data"
    }
   ],
   "source": [
    "from IPython.display import Markdown, display\n",
    "# Header and table rows\n",
    "header = \"Data Science Tools\"\n",
    "tools_list = [\n",
    "    \"Jupyter Notebook\",\n",
    "    \"RStudio\",\n",
    "    \"Visual Studio Code\",\n",
    "    # You can add more tools here if needed\n",
    "]\n",
    "# Create the table in Markdown format\n",
    "table_content = f\"| {header} |\\n|{'-' * len(header)}|\\n\" + \"\\n\".join([f\"| {tool} |\" for tool in tools_list])\n",
    "# Heading with text\n",
    "heading_text = \"### Below are a few examples of evaluating arithmetic expressions in Python\"\n",
    "# Combine the heading and the table\n",
    "markdown_text = heading_text + \"\\n\\n\" + table_content\n",
    "# Display the Markdown cell\n",
    "display(Markdown(markdown_text))"
   ]
  },
  {
   "cell_type": "code",
   "execution_count": 7,
   "id": "6b02e8a1-a18b-4dea-81c8-995dea33cee4",
   "metadata": {
    "tags": []
   },
   "outputs": [
    {
     "name": "stdout",
     "output_type": "stream",
     "text": [
      "17\n"
     ]
    }
   ],
   "source": [
    "# This is a simple arithmetic expression to multiply then add integers.\n",
    "result = (3 * 4) + 5\n",
    "print(result)\n"
   ]
  },
  {
   "cell_type": "code",
   "execution_count": 8,
   "id": "f5d9371d-5ab2-4e8f-abec-fdba0909e778",
   "metadata": {
    "tags": []
   },
   "outputs": [
    {
     "name": "stdout",
     "output_type": "stream",
     "text": [
      "3.3333333333333335\n"
     ]
    }
   ],
   "source": [
    "# This will convert 200 minutes to hours by dividing by 60.\n",
    "minutes = 200\n",
    "hours = minutes / 60\n",
    "print(hours)\n"
   ]
  },
  {
   "cell_type": "code",
   "execution_count": 9,
   "id": "df9a1e7d-9db7-4096-a2cb-b74415e8913f",
   "metadata": {
    "tags": []
   },
   "outputs": [
    {
     "data": {
      "text/markdown": [
       "\n",
       "**Objectives:**\n",
       "\n",
       "- List popular languages for Data Science.\n",
       "- Introduce commonly used libraries for Data Science.\n",
       "- Discuss some open-source development environment tools for Data Science.\n",
       "- Provide examples of evaluating arithmetic expressions in Python.\n",
       "- Convert minutes to hours using simple arithmetic operations.\n"
      ],
      "text/plain": [
       "<IPython.core.display.Markdown object>"
      ]
     },
     "metadata": {},
     "output_type": "display_data"
    }
   ],
   "source": [
    "from IPython.display import Markdown, display\n",
    "# Markdown cell content with objectives\n",
    "objectives_content = \"\"\"\n",
    "**Objectives:**\n",
    "\n",
    "- List popular languages for Data Science.\n",
    "- Introduce commonly used libraries for Data Science.\n",
    "- Discuss some open-source development environment tools for Data Science.\n",
    "- Provide examples of evaluating arithmetic expressions in Python.\n",
    "- Convert minutes to hours using simple arithmetic operations.\n",
    "\"\"\"\n",
    "# Display the Markdown cell with objectives\n",
    "display(Markdown(objectives_content))"
   ]
  },
  {
   "cell_type": "code",
   "execution_count": 10,
   "id": "78b6123f-13e1-4ac6-b4e9-9aa64c735d7a",
   "metadata": {
    "tags": []
   },
   "outputs": [
    {
     "data": {
      "text/markdown": [
       "\n",
       "## Author\n",
       "Your Name\n"
      ],
      "text/plain": [
       "<IPython.core.display.Markdown object>"
      ]
     },
     "metadata": {},
     "output_type": "display_data"
    }
   ],
   "source": [
    "from IPython.display import Markdown, display\n",
    "\n",
    "# Markdown cell content with Author information\n",
    "author_content = \"\"\"\n",
    "## Author\n",
    "Your Name\n",
    "\"\"\"\n",
    "# Display the Markdown cell with Author information\n",
    "display(Markdown(author_content))"
   ]
  },
  {
   "cell_type": "code",
   "execution_count": null,
   "id": "49056adc-082e-4973-bb6d-a3bebc4898f8",
   "metadata": {},
   "outputs": [],
   "source": []
  }
 ],
 "metadata": {
  "kernelspec": {
   "display_name": "Python",
   "language": "python",
   "name": "conda-env-python-py"
  },
  "language_info": {
   "codemirror_mode": {
    "name": "ipython",
    "version": 3
   },
   "file_extension": ".py",
   "mimetype": "text/x-python",
   "name": "python",
   "nbconvert_exporter": "python",
   "pygments_lexer": "ipython3",
   "version": "3.7.12"
  }
 },
 "nbformat": 4,
 "nbformat_minor": 5
}
